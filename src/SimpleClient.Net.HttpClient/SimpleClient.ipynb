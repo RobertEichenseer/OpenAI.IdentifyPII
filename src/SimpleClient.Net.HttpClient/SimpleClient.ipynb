{
 "cells": [
  {
   "attachments": {},
   "cell_type": "markdown",
   "metadata": {},
   "source": [
    "# Azure OpenAI to identify PII within data\n",
    "\n",
    "## Few-shot learning\n",
    "\n",
    "The OpenAI completion API provides an endpoint where the prompt and additional parameter can be posted to. Within the prompt [few-shot learning](https://learn.microsoft.com/en-us/azure/cognitive-services/openai/concepts/advanced-prompt-engineering?pivots=programming-language-chat-completions) is used to provide a set of training examples as part of the prompt to give context to the model.\n",
    "```md\n",
    "Example 1:\n",
    "Input: Susanne is a power user and works daily 8 hours with the system\n",
    "Response: xx is a power user and works daily 8 hours with the system\n",
    "\n",
    "Example 2:\n",
    "Input: Charles has used Outlook 15 minutes yesterday\n",
    "Response: xx has used Outlook 15 minutes yesterday\n",
    "\n",
    "Example 3:\n",
    "Input: Robert is driving a car at high speed\n",
    "Response: xx is driving a car at high speed\n",
    "\n",
    "Example 4:\n",
    "Input: Jon has an invitation to a restaurant\n",
    "Response: xx has an invitation to a restaurant\n",
    "\n",
    "Example 5:\n",
    "Input: Olivia is running fast during the competition\n",
    "Response: xx is running fast during the competition\n",
    "```\n",
    "\n",
    "## Parameter:\n",
    "\n",
    "- ***Temperature:*** Set to 0.7 to produce more repetitive and deterministic responses\n",
    "- ***Top P:*** Set to 0.95 to narrow the model'S token selection to likelier tokens\n",
    "- ***Stop:*** Set to Newline to stop the to stop the model generating further tokens after the first response\n",
    "- ***Presence,Frequency Penalty:*** Set to 0 to limit the chance of repeating tokens"
   ]
  },
  {
   "cell_type": "code",
   "execution_count": 19,
   "metadata": {
    "dotnet_interactive": {
     "language": "csharp"
    },
    "polyglot_notebook": {
     "kernelName": "csharp"
    }
   },
   "outputs": [],
   "source": [
    "using System.Net; \n",
    "using System.Net.Http; \n",
    "using System.Text.Json; \n",
    "\n",
    "var payload = new { \n",
    "    prompt = \"You are a tool which extracts personal identifiable information (PII) from data provided to you. \\nIf you are unsure if there\\u0027s PII in the data answer with \\u0022The provided dataset needs checking\\u0022.\\nDo not invent additional information.\\nDo not include potential PII information in questions you add to your response.\\nExample 1:\\nInput: Susanne is a power user and works daily 8 hours with the system\\nResponse: xx is a power user and works daily 8 hours with the system\\n\\nExample 2:\\nInput: Charles has used Outlook 15 minutes yesterday\\nResponse: xx has used Outlook 15 minutes yesterday\\n\\nExample 3:\\nInput: Robert is driving a car at high speed\\nResponse: xx is driving a car at high speed\\n\\nExample 4:\\nInput: Jon has an invitation to a restaurant\\nResponse: xx has an invitation to a restaurant\\n\\nExample 5:\\nInput: Olivia is running fast during the competition\\nResponse: xx is running fast during the competition\\n\\n'Ashley has bought a news paper at the airport'\",\n",
    "    max_tokens = 150,\n",
    "    temperature = (float)0.7,\n",
    "    stop=\"\\n\",\n",
    "    presence_penalty=(float)0,\n",
    "    frequency_penalty=(float)0 \n",
    "};\n",
    "string jsonPayload = JsonSerializer.Serialize(payload);\n",
    "\n",
    "#!share --from c# jsonPayload --as jsonPayload "
   ]
  },
  {
   "attachments": {},
   "cell_type": "markdown",
   "metadata": {},
   "source": [
    "## Endpoint, API-Key & deployment name definition\n",
    "\n",
    "Replace endPoint, apiKey, deploymentName with values from your deployment. If you used [the containing script](/src/CreateEnv/CreateEnv.azcli) to create the environment the necessary information can be copied from:  \n",
    "\n",
    "- `$csEndpoint`\n",
    "- `$csApiKey`\n",
    "- `$modelDEploymentName`\n",
    "\n",
    "Sample values (not working / replace with your values): \n",
    "\n",
    "```csharp\n",
    "    string endPoint = \"https://southcentralus.api.cognitive.microsoft.com/\";\n",
    "    string apiKey = \"5a5477c4cdea4999ab0ca675259e3530\";\n",
    "    string deploymentName = \"gpt35turbo-deployment\";\n",
    "```"
   ]
  },
  {
   "cell_type": "code",
   "execution_count": 22,
   "metadata": {
    "dotnet_interactive": {
     "language": "csharp"
    },
    "polyglot_notebook": {
     "kernelName": "csharp"
    }
   },
   "outputs": [],
   "source": [
    "string endPoint = \"<<INSERT your Azure OpenAI endpoint>>\";\n",
    "string apiKey = \"<<INSERT your Azure OpenAI API key>>\";\n",
    "string deploymentName = \"<<INSERT your Azure OpenAI deployment name\";\n",
    "string url = $\"{endPoint}openai/deployments/{deploymentName}/completions?api-version=2023-03-15-preview\";\n",
    "\n",
    "#!share --from c# url --as url \n",
    "#!share --from c# apiKey --as apiKey\n",
    "#!share --from c# deploymentName --as deploymentName"
   ]
  },
  {
   "attachments": {},
   "cell_type": "markdown",
   "metadata": {},
   "source": [
    "## Invocation model API\n",
    "\n",
    ".net HttpClient is used to invoke the model API.\n",
    "\n",
    "Please see the response from the model: ***xx has bought a news paper at the airport*** as completion for 'Ashley has bought a news paper at the airport'\n"
   ]
  },
  {
   "cell_type": "code",
   "execution_count": 25,
   "metadata": {
    "dotnet_interactive": {
     "language": "csharp"
    },
    "polyglot_notebook": {
     "kernelName": "csharp"
    }
   },
   "outputs": [
    {
     "name": "stdout",
     "output_type": "stream",
     "text": [
      "{\"id\":\"cmpl-7Ie7EoU8RoQb4PyTxKz9CaVyRa4j4\",\"object\":\"text_completion\",\"created\":1684678464,\"model\":\"gpt-35-turbo\",\"choices\":[{\"text\":\" =\\u003e 'xx has bought a news paper at the airport'\",\"index\":0,\"finish_reason\":\"stop\",\"logprobs\":null}],\"usage\":{\"completion_tokens\":12,\"prompt_tokens\":213,\"total_tokens\":225}}\n",
      "\r\n"
     ]
    }
   ],
   "source": [
    "HttpRequestMessage httpRequestMessage = new HttpRequestMessage(HttpMethod.Post, url);\n",
    "httpRequestMessage.Headers.TryAddWithoutValidation(\"Content-Type\", \"application/json\");\n",
    "httpRequestMessage.Headers.Add(\"api-key\", apiKey); \n",
    "httpRequestMessage.Content = new StringContent(jsonPayload, System.Text.Encoding.UTF8, \"application/json\");\n",
    "\n",
    "using (HttpClient httpClient = new HttpClient()) {\n",
    "    HttpResponseMessage httpResponseMessage = await httpClient.SendAsync(httpRequestMessage);\n",
    "    string response = await httpResponseMessage.Content.ReadAsStringAsync();\n",
    "    Console.WriteLine(response);\n",
    "}"
   ]
  },
  {
   "attachments": {},
   "cell_type": "markdown",
   "metadata": {},
   "source": []
  }
 ],
 "metadata": {
  "kernelspec": {
   "display_name": ".NET (C#)",
   "language": "C#",
   "name": ".net-csharp"
  },
  "language_info": {
   "name": "polyglot-notebook"
  },
  "polyglot_notebook": {
   "kernelInfo": {
    "defaultKernelName": "csharp",
    "items": [
     {
      "aliases": [],
      "languageName": "csharp",
      "name": "csharp"
     }
    ]
   }
  }
 },
 "nbformat": 4,
 "nbformat_minor": 2
}
